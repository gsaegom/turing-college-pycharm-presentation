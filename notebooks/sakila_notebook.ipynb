{
 "cells": [
  {
   "cell_type": "code",
   "execution_count": 3,
   "metadata": {
    "collapsed": true,
    "ExecuteTime": {
     "end_time": "2023-08-15T17:47:42.461488700Z",
     "start_time": "2023-08-15T17:47:42.419643700Z"
    }
   },
   "outputs": [],
   "source": [
    "import pandas as pd\n",
    "import sqlite3"
   ]
  },
  {
   "cell_type": "code",
   "execution_count": 4,
   "outputs": [],
   "source": [
    "con = sqlite3.connect('sqlite-sakila.sq')\n",
    "cursor = con.cursor()"
   ],
   "metadata": {
    "collapsed": false,
    "ExecuteTime": {
     "end_time": "2023-08-15T17:47:42.462843500Z",
     "start_time": "2023-08-15T17:47:42.434996600Z"
    }
   }
  },
  {
   "cell_type": "code",
   "execution_count": 5,
   "outputs": [
    {
     "data": {
      "text/plain": "   actor_id first_name     last_name          last_update\n0         1   PENELOPE       GUINESS  2011-09-14 18:05:28\n1         2       NICK      WAHLBERG  2011-09-14 18:05:28\n2         3         ED         CHASE  2011-09-14 18:05:28\n3         4   JENNIFER         DAVIS  2011-09-14 18:05:28\n4         5     JOHNNY  LOLLOBRIGIDA  2011-09-14 18:05:28",
      "text/html": "<div>\n<style scoped>\n    .dataframe tbody tr th:only-of-type {\n        vertical-align: middle;\n    }\n\n    .dataframe tbody tr th {\n        vertical-align: top;\n    }\n\n    .dataframe thead th {\n        text-align: right;\n    }\n</style>\n<table border=\"1\" class=\"dataframe\">\n  <thead>\n    <tr style=\"text-align: right;\">\n      <th></th>\n      <th>actor_id</th>\n      <th>first_name</th>\n      <th>last_name</th>\n      <th>last_update</th>\n    </tr>\n  </thead>\n  <tbody>\n    <tr>\n      <th>0</th>\n      <td>1</td>\n      <td>PENELOPE</td>\n      <td>GUINESS</td>\n      <td>2011-09-14 18:05:28</td>\n    </tr>\n    <tr>\n      <th>1</th>\n      <td>2</td>\n      <td>NICK</td>\n      <td>WAHLBERG</td>\n      <td>2011-09-14 18:05:28</td>\n    </tr>\n    <tr>\n      <th>2</th>\n      <td>3</td>\n      <td>ED</td>\n      <td>CHASE</td>\n      <td>2011-09-14 18:05:28</td>\n    </tr>\n    <tr>\n      <th>3</th>\n      <td>4</td>\n      <td>JENNIFER</td>\n      <td>DAVIS</td>\n      <td>2011-09-14 18:05:28</td>\n    </tr>\n    <tr>\n      <th>4</th>\n      <td>5</td>\n      <td>JOHNNY</td>\n      <td>LOLLOBRIGIDA</td>\n      <td>2011-09-14 18:05:28</td>\n    </tr>\n  </tbody>\n</table>\n</div>"
     },
     "execution_count": 5,
     "metadata": {},
     "output_type": "execute_result"
    }
   ],
   "source": [
    "actor = pd.read_sql_query(\"SELECT * from actor\", con)\n",
    "actor.head()"
   ],
   "metadata": {
    "collapsed": false,
    "ExecuteTime": {
     "end_time": "2023-08-15T17:47:42.487983300Z",
     "start_time": "2023-08-15T17:47:42.448504100Z"
    }
   }
  }
 ],
 "metadata": {
  "kernelspec": {
   "display_name": "Python 3",
   "language": "python",
   "name": "python3"
  },
  "language_info": {
   "codemirror_mode": {
    "name": "ipython",
    "version": 2
   },
   "file_extension": ".py",
   "mimetype": "text/x-python",
   "name": "python",
   "nbconvert_exporter": "python",
   "pygments_lexer": "ipython2",
   "version": "2.7.6"
  }
 },
 "nbformat": 4,
 "nbformat_minor": 0
}
